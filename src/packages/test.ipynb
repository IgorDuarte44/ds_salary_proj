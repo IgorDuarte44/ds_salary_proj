{
 "cells": [
  {
   "cell_type": "code",
   "execution_count": 14,
   "metadata": {},
   "outputs": [],
   "source": [
    "# Import necessary libraries\n",
    "# standard libraries\n",
    "import time\n",
    "from urllib.parse import urlparse\n",
    "\n",
    "# 3rd-party libraries\n",
    "from urllib.request import Request, urlopen\n",
    "\n",
    "from bs4 import BeautifulSoup as soup"
   ]
  },
  {
   "cell_type": "code",
   "execution_count": 15,
   "metadata": {},
   "outputs": [
    {
     "data": {
      "text/plain": [
       "ParseResult(scheme='', netloc='', path='google.com.pt', params='', query='', fragment='')"
      ]
     },
     "execution_count": 15,
     "metadata": {},
     "output_type": "execute_result"
    }
   ],
   "source": [
    "requested_url='google.com.pt'\n",
    "urlparse(requested_url)"
   ]
  },
  {
   "cell_type": "code",
   "execution_count": 112,
   "metadata": {},
   "outputs": [
    {
     "data": {
      "text/plain": [
       "'9954 jobs'"
      ]
     },
     "execution_count": 112,
     "metadata": {},
     "output_type": "execute_result"
    }
   ],
   "source": [
    "from common import requestAndParse\n",
    "base_url =\"https://www.glassdoor.com/Job/data-scientist-jobs-SRCH_KO0,14.htm\"\n",
    "page_soup, _ = requestAndParse(base_url)\n",
    "maxJobs_raw = page_soup.find_all('p')[0].get_text()\n",
    "maxJobs_raw"
   ]
  },
  {
   "cell_type": "code",
   "execution_count": 22,
   "metadata": {},
   "outputs": [
    {
     "data": {
      "text/plain": [
       "'9934 jobs'"
      ]
     },
     "execution_count": 22,
     "metadata": {},
     "output_type": "execute_result"
    }
   ],
   "source": [
    "from common import requestAndParse\n",
    "base_url =\"https://www.glassdoor.com/Job/data-scientist-jobs-SRCH_KO0,14.htm\"\n",
    "page_soup, _ = requestAndParse(base_url)\n",
    "maxJobs_raw = page_soup.find_all('p')[0].get_text()\n",
    "maxJobs_raw"
   ]
  },
  {
   "cell_type": "code",
   "execution_count": 110,
   "metadata": {},
   "outputs": [],
   "source": [
    "headers = {\n",
    "            \"User-Agent\": \"Mozilla/5.0 (X11; Linux x86_64) \"\n",
    "            \"AppleWebKit/537.11 (KHTML, like Gecko) \"\n",
    "            \"Chrome/23.0.1271.64 Safari/537.11\",\n",
    "            \"Accept\": \"text/html,application/xhtml+xml,application/xml;q=0.9,*/*;q=0.8\",\n",
    "            \"Accept-Charset\": \"ISO-8859-1,utf-8;q=0.7,*;q=0.3\",\n",
    "            \"Accept-Encoding\": \"none\",\n",
    "            \"Accept-Language\": \"en-US,en;q=0.8\",\n",
    "            \"Connection\": \"keep-alive\",\n",
    "        }"
   ]
  },
  {
   "cell_type": "code",
   "execution_count": 51,
   "metadata": {},
   "outputs": [],
   "source": [
    "assert \"jobs\" in maxJobs_raw"
   ]
  },
  {
   "cell_type": "code",
   "execution_count": 24,
   "metadata": {},
   "outputs": [
    {
     "data": {
      "text/plain": [
       "''"
      ]
     },
     "execution_count": 24,
     "metadata": {},
     "output_type": "execute_result"
    }
   ],
   "source": [
    "maxPages_raw = [\n",
    "        item for item in page_soup.find_all(\"div\") if \"data-test\" in item.attrs\n",
    "    ][-1].get_text()\n",
    "import re\n",
    "re.sub(r\"\\D\", \"\", maxJobs_raw)\n",
    "re.sub(r\"\\D\", \"\", maxPages_raw)"
   ]
  },
  {
   "cell_type": "code",
   "execution_count": 60,
   "metadata": {},
   "outputs": [
    {
     "data": {
      "text/plain": [
       "'Page 1 of 30'"
      ]
     },
     "execution_count": 60,
     "metadata": {},
     "output_type": "execute_result"
    }
   ],
   "source": [
    "page_maxPages_raw = page_soup.select('div.paginationFooter')[0].get_text()\n",
    "page_maxPages_raw"
   ]
  },
  {
   "cell_type": "code",
   "execution_count": 64,
   "metadata": {},
   "outputs": [],
   "source": [
    "assert \"Page\" in page_maxPages_raw"
   ]
  },
  {
   "cell_type": "code",
   "execution_count": 39,
   "metadata": {},
   "outputs": [
    {
     "data": {
      "text/plain": [
       "30"
      ]
     },
     "execution_count": 39,
     "metadata": {},
     "output_type": "execute_result"
    }
   ],
   "source": [
    "int(page_maxPages_raw.split(' ')[-1])"
   ]
  },
  {
   "cell_type": "code",
   "execution_count": 68,
   "metadata": {},
   "outputs": [],
   "source": [
    "listings_list = [\"www.glassdoor.com\" + link[\"href\"] for link in page_soup.find_all(\"a\", href=True)\n",
    " if \"/partner/jobListing.htm?\" in link[\"href\"]]\n",
    " "
   ]
  },
  {
   "cell_type": "code",
   "execution_count": 69,
   "metadata": {},
   "outputs": [
    {
     "data": {
      "text/plain": [
       "30"
      ]
     },
     "execution_count": 69,
     "metadata": {},
     "output_type": "execute_result"
    }
   ],
   "source": [
    "listings_set = set(listings_list)\n",
    "jobCount = len(listings_set)\n",
    "jobCount"
   ]
  },
  {
   "cell_type": "code",
   "execution_count": 70,
   "metadata": {},
   "outputs": [
    {
     "data": {
      "text/plain": [
       "{'www.glassdoor.com/partner/jobListing.htm?pos=101&ao=1136043&s=58&guid=0000017ed4c3c36bb3de3dedd8e4d253&src=GD_JOB_AD&t=SR&vt=w&cs=1_31414865&cb=1644247107013&jobListingId=1007577263374&jrtk=3-0-1frac7gsj3ojb001-1frac7gssu1lk800-c71b72157f64f825-',\n",
       " 'www.glassdoor.com/partner/jobListing.htm?pos=102&ao=1136043&s=58&guid=0000017ed4c3c36bb3de3dedd8e4d253&src=GD_JOB_AD&t=SR&vt=w&cs=1_91e9d7f5&cb=1644247107013&jobListingId=1007606551624&jrtk=3-0-1frac7gsj3ojb001-1frac7gssu1lk800-52b3b463a8602b6b-',\n",
       " 'www.glassdoor.com/partner/jobListing.htm?pos=103&ao=1136043&s=58&guid=0000017ed4c3c36bb3de3dedd8e4d253&src=GD_JOB_AD&t=SR&vt=w&cs=1_04513886&cb=1644247107014&jobListingId=1007484169729&jrtk=3-0-1frac7gsj3ojb001-1frac7gssu1lk800-ecfd94ad120e8423-',\n",
       " 'www.glassdoor.com/partner/jobListing.htm?pos=104&ao=1136043&s=58&guid=0000017ed4c3c36bb3de3dedd8e4d253&src=GD_JOB_AD&t=SR&vt=w&cs=1_2ffbbd3c&cb=1644247107014&jobListingId=1007623485378&jrtk=3-0-1frac7gsj3ojb001-1frac7gssu1lk800-d7de45b4ab2e9feb-',\n",
       " 'www.glassdoor.com/partner/jobListing.htm?pos=105&ao=1136043&s=58&guid=0000017ed4c3c36bb3de3dedd8e4d253&src=GD_JOB_AD&t=SR&vt=w&cs=1_3cb76f4a&cb=1644247107014&jobListingId=1007599535643&jrtk=3-0-1frac7gsj3ojb001-1frac7gssu1lk800-d64d5a2b920ce762-',\n",
       " 'www.glassdoor.com/partner/jobListing.htm?pos=106&ao=1136043&s=58&guid=0000017ed4c3c36bb3de3dedd8e4d253&src=GD_JOB_AD&t=SR&vt=w&cs=1_4f2b5637&cb=1644247107015&jobListingId=1007618019920&jrtk=3-0-1frac7gsj3ojb001-1frac7gssu1lk800-6a30f390d7624371-',\n",
       " 'www.glassdoor.com/partner/jobListing.htm?pos=107&ao=1136043&s=58&guid=0000017ed4c3c36bb3de3dedd8e4d253&src=GD_JOB_AD&t=SR&vt=w&cs=1_d83b110b&cb=1644247107015&jobListingId=1007568144252&jrtk=3-0-1frac7gsj3ojb001-1frac7gssu1lk800-f84d4861a4473b4b-',\n",
       " 'www.glassdoor.com/partner/jobListing.htm?pos=108&ao=1136043&s=58&guid=0000017ed4c3c36bb3de3dedd8e4d253&src=GD_JOB_AD&t=SR&vt=w&cs=1_2c9431ef&cb=1644247107015&jobListingId=1007616544923&jrtk=3-0-1frac7gsj3ojb001-1frac7gssu1lk800-18451602a3ec14c1-',\n",
       " 'www.glassdoor.com/partner/jobListing.htm?pos=109&ao=1136043&s=58&guid=0000017ed4c3c36bb3de3dedd8e4d253&src=GD_JOB_AD&t=SR&vt=w&ea=1&cs=1_e91acdcd&cb=1644247107015&jobListingId=1007560131421&jrtk=3-0-1frac7gsj3ojb001-1frac7gssu1lk800-dd5fe33b801ad9cb-',\n",
       " 'www.glassdoor.com/partner/jobListing.htm?pos=110&ao=1136043&s=58&guid=0000017ed4c3c36bb3de3dedd8e4d253&src=GD_JOB_AD&t=SR&vt=w&ea=1&cs=1_c5512bc5&cb=1644247107015&jobListingId=1007616848667&jrtk=3-0-1frac7gsj3ojb001-1frac7gssu1lk800-946fd60dc9f4f849-',\n",
       " 'www.glassdoor.com/partner/jobListing.htm?pos=111&ao=1136043&s=58&guid=0000017ed4c3c36bb3de3dedd8e4d253&src=GD_JOB_AD&t=SR&vt=w&cs=1_7e2e3aa9&cb=1644247107016&jobListingId=1007540337663&jrtk=3-0-1frac7gsj3ojb001-1frac7gssu1lk800-ad9e4f061fa4549c-',\n",
       " 'www.glassdoor.com/partner/jobListing.htm?pos=112&ao=1136043&s=58&guid=0000017ed4c3c36bb3de3dedd8e4d253&src=GD_JOB_AD&t=SR&vt=w&cs=1_2913b232&cb=1644247107016&jobListingId=1007601454084&jrtk=3-0-1frac7gsj3ojb001-1frac7gssu1lk800-5f50942028e14281-',\n",
       " 'www.glassdoor.com/partner/jobListing.htm?pos=113&ao=1136043&s=58&guid=0000017ed4c3c36bb3de3dedd8e4d253&src=GD_JOB_AD&t=SR&vt=w&cs=1_ecc8259d&cb=1644247107016&jobListingId=1007433743875&jrtk=3-0-1frac7gsj3ojb001-1frac7gssu1lk800-7a902bc330e46821-',\n",
       " 'www.glassdoor.com/partner/jobListing.htm?pos=114&ao=1136043&s=58&guid=0000017ed4c3c36bb3de3dedd8e4d253&src=GD_JOB_AD&t=SR&vt=w&ea=1&cs=1_8068347a&cb=1644247107016&jobListingId=1007583288068&jrtk=3-0-1frac7gsj3ojb001-1frac7gssu1lk800-3972f50ba90048c8-',\n",
       " 'www.glassdoor.com/partner/jobListing.htm?pos=115&ao=1136043&s=58&guid=0000017ed4c3c36bb3de3dedd8e4d253&src=GD_JOB_AD&t=SR&vt=w&cs=1_8096b1b6&cb=1644247107017&jobListingId=1007616857703&jrtk=3-0-1frac7gsj3ojb001-1frac7gssu1lk800-5d8efe74374ad633-',\n",
       " 'www.glassdoor.com/partner/jobListing.htm?pos=116&ao=1136043&s=58&guid=0000017ed4c3c36bb3de3dedd8e4d253&src=GD_JOB_AD&t=SR&vt=w&cs=1_debbb905&cb=1644247107017&jobListingId=1007613242734&jrtk=3-0-1frac7gsj3ojb001-1frac7gssu1lk800-9b1cc6670b2a1f66-',\n",
       " 'www.glassdoor.com/partner/jobListing.htm?pos=117&ao=1136043&s=58&guid=0000017ed4c3c36bb3de3dedd8e4d253&src=GD_JOB_AD&t=SR&vt=w&ea=1&cs=1_b8a5c141&cb=1644247107017&jobListingId=1007579494486&jrtk=3-0-1frac7gsj3ojb001-1frac7gssu1lk800-1195376da9e22eec-',\n",
       " 'www.glassdoor.com/partner/jobListing.htm?pos=118&ao=1136043&s=58&guid=0000017ed4c3c36bb3de3dedd8e4d253&src=GD_JOB_AD&t=SR&vt=w&ea=1&cs=1_b2917768&cb=1644247107017&jobListingId=1007587598308&jrtk=3-0-1frac7gsj3ojb001-1frac7gssu1lk800-e3af17953c1985d1-',\n",
       " 'www.glassdoor.com/partner/jobListing.htm?pos=119&ao=1136043&s=58&guid=0000017ed4c3c36bb3de3dedd8e4d253&src=GD_JOB_AD&t=SR&vt=w&cs=1_06488316&cb=1644247107018&jobListingId=1007569829759&jrtk=3-0-1frac7gsj3ojb001-1frac7gssu1lk800-01718e4c94572a41-',\n",
       " 'www.glassdoor.com/partner/jobListing.htm?pos=120&ao=1136043&s=58&guid=0000017ed4c3c36bb3de3dedd8e4d253&src=GD_JOB_AD&t=SR&vt=w&cs=1_8ebe3b49&cb=1644247107018&jobListingId=1007592933434&jrtk=3-0-1frac7gsj3ojb001-1frac7gssu1lk800-b162651aef26bb88-',\n",
       " 'www.glassdoor.com/partner/jobListing.htm?pos=121&ao=1136043&s=58&guid=0000017ed4c3c36bb3de3dedd8e4d253&src=GD_JOB_AD&t=SR&vt=w&cs=1_cc915bdf&cb=1644247107018&jobListingId=1007616465423&jrtk=3-0-1frac7gsj3ojb001-1frac7gssu1lk800-8e7eb8ce19a77003-',\n",
       " 'www.glassdoor.com/partner/jobListing.htm?pos=122&ao=1136043&s=58&guid=0000017ed4c3c36bb3de3dedd8e4d253&src=GD_JOB_AD&t=SR&vt=w&ea=1&cs=1_ff85b785&cb=1644247107018&jobListingId=1007510404429&jrtk=3-0-1frac7gsj3ojb001-1frac7gssu1lk800-275a7ea6d515f35e-',\n",
       " 'www.glassdoor.com/partner/jobListing.htm?pos=123&ao=1136043&s=58&guid=0000017ed4c3c36bb3de3dedd8e4d253&src=GD_JOB_AD&t=SR&vt=w&cs=1_f7d0e7cd&cb=1644247107019&jobListingId=1007610738095&jrtk=3-0-1frac7gsj3ojb001-1frac7gssu1lk800-0bfa2734880c80dd-',\n",
       " 'www.glassdoor.com/partner/jobListing.htm?pos=124&ao=1136043&s=58&guid=0000017ed4c3c36bb3de3dedd8e4d253&src=GD_JOB_AD&t=SR&vt=w&cs=1_d23f50e9&cb=1644247107019&jobListingId=1006952562671&jrtk=3-0-1frac7gsj3ojb001-1frac7gssu1lk800-a1c59666bc32cd74-',\n",
       " 'www.glassdoor.com/partner/jobListing.htm?pos=125&ao=1136043&s=58&guid=0000017ed4c3c36bb3de3dedd8e4d253&src=GD_JOB_AD&t=SR&vt=w&ea=1&cs=1_e7e391e7&cb=1644247107019&jobListingId=1007599230494&jrtk=3-0-1frac7gsj3ojb001-1frac7gssu1lk800-c98269c815b069d4-',\n",
       " 'www.glassdoor.com/partner/jobListing.htm?pos=126&ao=1136043&s=58&guid=0000017ed4c3c36bb3de3dedd8e4d253&src=GD_JOB_AD&t=SR&vt=w&ea=1&cs=1_6062223b&cb=1644247107019&jobListingId=1007624523923&jrtk=3-0-1frac7gsj3ojb001-1frac7gssu1lk800-346f9a1c2fe38279-',\n",
       " 'www.glassdoor.com/partner/jobListing.htm?pos=127&ao=1136043&s=58&guid=0000017ed4c3c36bb3de3dedd8e4d253&src=GD_JOB_AD&t=SR&vt=w&ea=1&cs=1_880af2b6&cb=1644247107019&jobListingId=1007619328458&jrtk=3-0-1frac7gsj3ojb001-1frac7gssu1lk800-68e05306510cf3df-',\n",
       " 'www.glassdoor.com/partner/jobListing.htm?pos=128&ao=1136043&s=58&guid=0000017ed4c3c36bb3de3dedd8e4d253&src=GD_JOB_AD&t=SR&vt=w&cs=1_940513c0&cb=1644247107019&jobListingId=1007620425891&jrtk=3-0-1frac7gsj3ojb001-1frac7gssu1lk800-c2aabc2da35a87d6-',\n",
       " 'www.glassdoor.com/partner/jobListing.htm?pos=129&ao=1136043&s=58&guid=0000017ed4c3c36bb3de3dedd8e4d253&src=GD_JOB_AD&t=SR&vt=w&cs=1_894b0913&cb=1644247107019&jobListingId=1007519378363&jrtk=3-0-1frac7gsj3ojb001-1frac7gssu1lk800-2f8001615d052a4c-',\n",
       " 'www.glassdoor.com/partner/jobListing.htm?pos=130&ao=1136043&s=58&guid=0000017ed4c3c36bb3de3dedd8e4d253&src=GD_JOB_AD&t=SR&vt=w&cs=1_52cc979e&cb=1644247107019&jobListingId=1007488863355&jrtk=3-0-1frac7gsj3ojb001-1frac7gssu1lk800-5b95a5162fb98267-'}"
      ]
     },
     "execution_count": 70,
     "metadata": {},
     "output_type": "execute_result"
    }
   ],
   "source": [
    "listings_set"
   ]
  },
  {
   "cell_type": "code",
   "execution_count": 73,
   "metadata": {},
   "outputs": [],
   "source": [
    "url = list(listings_set)[0]"
   ]
  },
  {
   "cell_type": "code",
   "execution_count": 74,
   "metadata": {},
   "outputs": [],
   "source": [
    "listing_soup, requested_url = requestAndParse(url)"
   ]
  },
  {
   "cell_type": "code",
   "execution_count": 91,
   "metadata": {},
   "outputs": [
    {
     "data": {
      "text/plain": [
       "<div class=\"tabSection p-std mt-0\" data-brandviews=\"MODULE:n=jobListing-description:eid=3266310:jlid=1007560131421\" id=\"JobDescriptionContainer\"><style data-emotion-css=\"1yuy9gt\">.css-1yuy9gt{display:-webkit-box;-webkit-line-clamp:10;-webkit-box-orient:vertical;overflow:hidden;}.css-1yuy9gt *{color:#505863;line-height:1.4em;}.css-1yuy9gt .ecgq1xb1{padding-left:0;}.css-1yuy9gt .ecgq1xb1 .ecgq1xb0{margin:0 0 8px 0;}.css-1yuy9gt ol,.css-1yuy9gt ul{padding-left:32px;}.css-1yuy9gt li{margin:10px;margin-bottom:5px;margin-left:20px;line-height:1.4em;}</style><div class=\"css-1yuy9gt ecgq1xb3\" id=\"JobDesc1007560131421\"><style data-emotion-css=\"58vpdc\">.css-58vpdc{margin-bottom:24px;}.css-58vpdc ul{margin:5px 0 10px 20px;}.css-58vpdc ul > br{display:none;}.css-58vpdc ul > li{margin-left:0;}.css-58vpdc li{padding:0;}</style><div class=\"desc css-58vpdc ecgq1xb4\"><p><b>Data Scientist</b></p><p><b>Location- Austin, TX</b></p><ul><li>Machine Learning2-5 years is required</li><li>Recommendation systems2-5 years is required</li><li>Pattern recognition2-5 years is required</li><li>Data mining2-5 years is required</li><li>Artificial Intelligence2-5 years is required</li><li>Machine learning modeling2-5 years is required</li><li>Data ingestion pipeline using spark2-5 years is required</li><li>Hive2-5 years is required</li><li>PyTorchAt least 1 year is required</li><li>Caffe2At least 1 year is required</li><li>TensorflowAt least 1 year is required</li><li>KerasAt least 1 year is required</li><li>numpyAt least 1 year is required</li><li>PandasAt least 1 year is required</li></ul><p>Job Types: Part-time, Contract</p><p>Pay: $78,136.00 - $181,200.00 per year</p><p>Schedule:</p><ul><li>8 hour shift</li></ul><p>Education:</p><ul><li>Master's (Preferred)</li></ul><p>Experience:</p><ul><li>Python: 1 year (Preferred)</li><li>SQL: 1 year (Preferred)</li></ul><p>Work Location: Remote</p></div></div><style data-emotion-css=\"t3xrds\">.css-t3xrds{color:#1861bf;cursor:pointer;font-weight:700;margin:16px;text-align:center;}.css-t3xrds svg{height:12px;width:12px;}</style><div class=\"css-t3xrds ecgq1xb2\">Show more<!-- --> <svg height=\"24\" viewbox=\"0 0 24 24\" width=\"24\" xmlns=\"http://www.w3.org/2000/svg\"><path d=\"M4.4 9.25l7.386 7.523a1 1 0 0 0 1.428 0L20.6 9.25c.5-.509.5-1.324 0-1.833a1.261 1.261 0 0 0-1.8 0l-6.3 6.416-6.3-6.416a1.261 1.261 0 0 0-1.8 0c-.5.509-.5 1.324 0 1.833z\" fill=\"currentColor\" fill-rule=\"evenodd\"></path></svg></div></div>"
      ]
     },
     "execution_count": 91,
     "metadata": {},
     "output_type": "execute_result"
    }
   ],
   "source": [
    " listing_jobDesc_raw= listing_soup.find(\"div\", id=\"JobDescriptionContainer\")\n",
    " listing_jobDesc_raw"
   ]
  },
  {
   "cell_type": "code",
   "execution_count": 93,
   "metadata": {},
   "outputs": [
    {
     "data": {
      "text/plain": [
       "\"Data ScientistLocation- Austin, TXMachine Learning2-5 years is requiredRecommendation systems2-5 years is requiredPattern recognition2-5 years is requiredData mining2-5 years is requiredArtificial Intelligence2-5 years is requiredMachine learning modeling2-5 years is requiredData ingestion pipeline using spark2-5 years is requiredHive2-5 years is requiredPyTorchAt least 1 year is requiredCaffe2At least 1 year is requiredTensorflowAt least 1 year is requiredKerasAt least 1 year is requirednumpyAt least 1 year is requiredPandasAt least 1 year is requiredJob Types: Part-time, ContractPay: $78,136.00 - $181,200.00 per yearSchedule:8 hour shiftEducation:Master's (Preferred)Experience:Python: 1 year (Preferred)SQL: 1 year (Preferred)Work Location: RemoteShow more \""
      ]
     },
     "execution_count": 93,
     "metadata": {},
     "output_type": "execute_result"
    }
   ],
   "source": [
    " listing_jobDesc_raw.getText()"
   ]
  },
  {
   "cell_type": "code",
   "execution_count": 85,
   "metadata": {},
   "outputs": [
    {
     "data": {
      "text/plain": [
       "['Machine Learning2-5 years is required',\n",
       " 'Recommendation systems2-5 years is required',\n",
       " 'Pattern recognition2-5 years is required',\n",
       " 'Data mining2-5 years is required',\n",
       " 'Artificial Intelligence2-5 years is required',\n",
       " 'Machine learning modeling2-5 years is required',\n",
       " 'Data ingestion pipeline using spark2-5 years is required',\n",
       " 'Hive2-5 years is required',\n",
       " 'PyTorchAt least 1 year is required',\n",
       " 'Caffe2At least 1 year is required',\n",
       " 'TensorflowAt least 1 year is required',\n",
       " 'KerasAt least 1 year is required',\n",
       " 'numpyAt least 1 year is required',\n",
       " 'PandasAt least 1 year is required',\n",
       " '8 hour shift',\n",
       " \"Master's (Preferred)\",\n",
       " 'Python: 1 year (Preferred)',\n",
       " 'SQL: 1 year (Preferred)']"
      ]
     },
     "execution_count": 85,
     "metadata": {},
     "output_type": "execute_result"
    }
   ],
   "source": [
    "[jobDesc_item.text for jobDesc_item \n",
    "in listing_jobDesc_raw.findAll(\"li\")]\n",
    "\n"
   ]
  },
  {
   "cell_type": "code",
   "execution_count": 117,
   "metadata": {},
   "outputs": [
    {
     "data": {
      "text/plain": [
       "\"Machine Learning2-5 years is required ; Recommendation systems2-5 years is required ; Pattern recognition2-5 years is required ; Data mining2-5 years is required ; Artificial Intelligence2-5 years is required ; Machine learning modeling2-5 years is required ; Data ingestion pipeline using spark2-5 years is required ; Hive2-5 years is required ; PyTorchAt least 1 year is required ; Caffe2At least 1 year is required ; TensorflowAt least 1 year is required ; KerasAt least 1 year is required ; numpyAt least 1 year is required ; PandasAt least 1 year is required ; 8 hour shift ; Master's (Preferred) ; Python: 1 year (Preferred) ; SQL: 1 year (Preferred)\""
      ]
     },
     "execution_count": 117,
     "metadata": {},
     "output_type": "execute_result"
    }
   ],
   "source": [
    "\" ; \".join([jobDesc_item.text for jobDesc_item \n",
    "in listing_jobDesc_raw.findAll(\"li\")])"
   ]
  },
  {
   "cell_type": "code",
   "execution_count": 94,
   "metadata": {},
   "outputs": [
    {
     "data": {
      "text/plain": [
       "622"
      ]
     },
     "execution_count": 94,
     "metadata": {},
     "output_type": "execute_result"
    }
   ],
   "source": [
    "len(\" \".join([jobDesc_item.text for jobDesc_item \n",
    "in listing_jobDesc_raw.findAll(\"li\")]))"
   ]
  },
  {
   "cell_type": "code",
   "execution_count": 96,
   "metadata": {},
   "outputs": [
    {
     "data": {
      "text/plain": [
       "<div class=\"css-ur1szg e11nt52q0\"><style data-emotion-css=\"16nw49e\">.css-16nw49e{-webkit-align-items:flex-end;-webkit-box-align:flex-end;-ms-flex-align:flex-end;align-items:flex-end;display:-webkit-box;display:-webkit-flex;display:-ms-flexbox;display:flex;line-height:1.33;}</style><div class=\"css-16nw49e e11nt52q1\">Atlantisitgroup<style data-emotion-css=\"1pmc6te\">.css-1pmc6te{-webkit-align-items:center;-webkit-box-align:center;-ms-flex-align:center;align-items:center;color:#0caa41;display:-webkit-box;display:-webkit-flex;display:-ms-flexbox;display:flex;font-size:12px;font-weight:700;padding-left:10px;top:-1px;position:relative;}</style><span class=\"css-1pmc6te e11nt52q4\">3.9<style data-emotion-css=\"mfns2c\">.css-mfns2c{color:#0caa41;font-size:9px;margin-left:2px;}</style><span class=\"css-mfns2c e11nt52q5\">★</span></span></div><style data-emotion-css=\"17x2pwl\">.css-17x2pwl{font-weight:700;font-size:18px;line-height:1.33;}</style><div class=\"css-17x2pwl e11nt52q6\">Data Scientist</div><style data-emotion-css=\"1v5elnn\">.css-1v5elnn{display:-webkit-box;display:-webkit-flex;display:-ms-flexbox;display:flex;font-size:12px;line-height:1.67;}</style><div class=\"css-1v5elnn e11nt52q2\">Remote</div><div class=\"css-1v5elnn e11nt52q2\"><style data-emotion-css=\"10zcshf\">.css-10zcshf{font-size:14px;color:#505863;}</style><span class=\"small css-10zcshf e1v3ed7e1\"><style data-emotion-css=\"1jd3gb2\">.css-1jd3gb2{font-size:0.9em;margin:0 4px;position:relative;}.css-1jd3gb2 .checkmark{margin-right:4px;}</style><span class=\"css-1jd3gb2 e1v3ed7e0\"><svg class=\"checkmark\" height=\"9\" viewbox=\"0 0 12 9\" width=\"12\" xmlns=\"http://www.w3.org/2000/svg\"><path d=\"M11 1L3.759 8 1 5.333\" fill=\"none\" stroke=\"#0CAA41\" stroke-linecap=\"round\" stroke-linejoin=\"round\" stroke-width=\"2\"></path></svg>Employer est.<!-- -->:</span>$78,136 - $181,200 <style data-emotion-css=\"b3pn3b\">.css-b3pn3b{display:inline-block;position:relative;}</style><div class=\"css-b3pn3b e1v3ed7e2\"><style data-emotion-css=\"ebu8nh\">.css-ebu8nh{bottom:-4px;height:14px;margin:0 0 1px 3px;position:absolute;-webkit-transform:scale(2);-ms-transform:scale(2);transform:scale(2);width:14px;}.css-ebu8nh:hover{cursor:pointer;}</style><svg class=\"css-ebu8nh e1v3ed7e3\" data-test=\"infoIcon\" height=\"16px\" viewbox=\"0 0 24 24\" width=\"16px\" xmlns=\"http://www.w3.org/2000/svg\"><path d=\"M12 9a1 1 0 1 0 1 1 1 1 0 0 0-1-1zm0 3a1 1 0 0 0-1 1v2a1 1 0 0 0 2 0v-2a1 1 0 0 0-1-1zm0-6a6 6 0 1 1-6 6 6 6 0 0 1 6-6zm0 11a5 5 0 1 0-5-5 5 5 0 0 0 5 5z\" fill=\"currentColor\" fill-rule=\"evenodd\"></path></svg></div><div class=\"hidden\"></div></span></div></div>"
      ]
     },
     "execution_count": 96,
     "metadata": {},
     "output_type": "execute_result"
    }
   ],
   "source": [
    "listing_bannerGroup = listing_soup.find(\"div\", class_=\"css-ur1szg e11nt52q0\")\n",
    "listing_bannerGroup"
   ]
  },
  {
   "cell_type": "code",
   "execution_count": 102,
   "metadata": {},
   "outputs": [],
   "source": [
    "company_starRating = listing_bannerGroup.find(\n",
    "                \"span\", class_=\"css-1pmc6te e11nt52q4\"\n",
    "            ).getText()"
   ]
  },
  {
   "cell_type": "code",
   "execution_count": 105,
   "metadata": {},
   "outputs": [
    {
     "data": {
      "text/plain": [
       "'Atlantisitgroup'"
      ]
     },
     "execution_count": 105,
     "metadata": {},
     "output_type": "execute_result"
    }
   ],
   "source": [
    "listing_bannerGroup.find(\"div\", class_=\"css-16nw49e e11nt52q1\").getText().replace(company_starRating, \"\")"
   ]
  },
  {
   "cell_type": "code",
   "execution_count": 106,
   "metadata": {},
   "outputs": [
    {
     "data": {
      "text/plain": [
       "'Atlantisitgroup3.9★'"
      ]
     },
     "execution_count": 106,
     "metadata": {},
     "output_type": "execute_result"
    }
   ],
   "source": [
    "listing_bannerGroup.find(\n",
    "                    \"div\", class_=\"css-16nw49e e11nt52q1\"\n",
    "                ).getText()"
   ]
  },
  {
   "cell_type": "code",
   "execution_count": 107,
   "metadata": {},
   "outputs": [
    {
     "data": {
      "text/plain": [
       "'Data Scientist'"
      ]
     },
     "execution_count": 107,
     "metadata": {},
     "output_type": "execute_result"
    }
   ],
   "source": [
    "listing_bannerGroup.find(\n",
    "                \"div\", class_=\"css-17x2pwl e11nt52q6\"\n",
    "            ).getText()"
   ]
  },
  {
   "cell_type": "code",
   "execution_count": 108,
   "metadata": {},
   "outputs": [
    {
     "data": {
      "text/plain": [
       "'Remote'"
      ]
     },
     "execution_count": 108,
     "metadata": {},
     "output_type": "execute_result"
    }
   ],
   "source": [
    "listing_bannerGroup.find(\n",
    "                \"div\", class_=\"css-1v5elnn e11nt52q2\"\n",
    "            ).getText()"
   ]
  },
  {
   "cell_type": "code",
   "execution_count": null,
   "metadata": {},
   "outputs": [],
   "source": []
  }
 ],
 "metadata": {
  "interpreter": {
   "hash": "a423063aa50fda46aa446d2d896e79e1c673a1d7b1b154880c52587bd53cff58"
  },
  "kernelspec": {
   "display_name": "Python 3.9.7 ('project_venv': venv)",
   "language": "python",
   "name": "python3"
  },
  "language_info": {
   "codemirror_mode": {
    "name": "ipython",
    "version": 3
   },
   "file_extension": ".py",
   "mimetype": "text/x-python",
   "name": "python",
   "nbconvert_exporter": "python",
   "pygments_lexer": "ipython3",
   "version": "3.9.7"
  },
  "orig_nbformat": 4
 },
 "nbformat": 4,
 "nbformat_minor": 2
}
